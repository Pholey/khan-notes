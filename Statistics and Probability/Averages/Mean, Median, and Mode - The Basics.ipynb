{
 "cells": [
  {
   "cell_type": "markdown",
   "metadata": {},
   "source": [
    "## What are statistics? \n",
    "\n",
    "Statistics in general are a way to wrap our heads around _data_. There are a few branches, including _Descriptive_ and _Inferential_ Statistics.\n",
    "\n",
    "Descriptive statistics are: \n",
    "  - Great for when you want to express something about the data, without presenting all of it.\n",
    "  - an attempt to find a smaller subset of information to represent a larger idea\n",
    "\n",
    "Then be able to do inferential statistics, make inferences, conclusions, judgements.\n",
    "\n",
    "How can we describe data?\n",
    "lets say we have a set of numbers, height of plants by inches:\n",
    "\n",
    "`4, 3, 1, 6, 1, 7`\n",
    "\n",
    "someone asks, \"how tall are your plants\", they only want one number. how?\n",
    "maybe i want a typical number? a number that represents the middle?\n",
    "\n",
    "\n",
    "## Getting a Central Tendency\n",
    "\n",
    "What is an `Average`? \n",
    "- a number that is \"typical\" or \"middle\" => attempt to find central tendency. A way to represent a dataset with just one number\n",
    "\n",
    "\n",
    "#### Types of Averages:\n",
    "###  `Arithmetic Mean`:  `(4 + 3 + 1 + 6 + 7) / 6 # 3.665`\n",
    "\n",
    "*Key Idea*: Think of mean to be the number of items if they were distributed equally across all participants. (how can we combine and rearrange the numbers so they are all the same? Then, take the total that one participant would hold)"
   ]
  },
  {
   "cell_type": "code",
   "execution_count": 2,
   "metadata": {},
   "outputs": [
    {
     "name": "stdout",
     "output_type": "stream",
     "text": [
      "3.66666666667\n"
     ]
    }
   ],
   "source": [
    "mean = lambda *l: sum(l) / float(len(l))\n",
    "print(mean(4, 3, 1, 6, 1, 7))"
   ]
  },
  {
   "cell_type": "markdown",
   "metadata": {},
   "source": [
    "#### Finding a missing value in a set with the mean\n",
    "_Given the set {9, x, 7} and the mean 7, solve for x_:\n",
    "\n",
    "```\n",
    "(16 + x) / 3 = 7\n",
    "```\n",
    "Simplify:\n",
    "```\n",
    "16 + x = 21\n",
    "```\n",
    "\n",
    "Solve:\n",
    "```\n",
    "x = 5\n",
    "```"
   ]
  },
  {
   "cell_type": "markdown",
   "metadata": {},
   "source": [
    "### `Median`:  `(1 1 3 4 6 7)` = 3.5 \n",
    "  - Good for outliers that may skew arithmetic mean"
   ]
  },
  {
   "cell_type": "code",
   "execution_count": 7,
   "metadata": {
    "collapsed": true
   },
   "outputs": [],
   "source": [
    "def median(*array):\n",
    "    \"\"\"Calculate median of the given list.\n",
    "    \"\"\"\n",
    "    array = sorted(array)\n",
    "    half, odd = divmod(len(array), 2)\n",
    "    if odd:\n",
    "        return array[half] # Return the middle number if we are an odd set\n",
    "    return mean(array[half - 1], array[half]) # preform arithmetic mean on the two middle numbers"
   ]
  },
  {
   "cell_type": "code",
   "execution_count": 8,
   "metadata": {},
   "outputs": [
    {
     "name": "stdout",
     "output_type": "stream",
     "text": [
      "3.5\n"
     ]
    }
   ],
   "source": [
    "print median(4, 3, 1, 6, 1, 7)"
   ]
  },
  {
   "cell_type": "markdown",
   "metadata": {},
   "source": [
    "### `Mode`: `(4, 3, 1, 6, 1, 7)` = 1 \n",
    "  - better represents repeating numbers in a data set.\n",
    "  - Good for outliers that may skew arithmetic mean, \n",
    "  - representing repeating numbers"
   ]
  },
  {
   "cell_type": "code",
   "execution_count": 16,
   "metadata": {},
   "outputs": [
    {
     "name": "stdout",
     "output_type": "stream",
     "text": [
      "[1] [1] [1, 3]\n"
     ]
    }
   ],
   "source": [
    "def mode(*array):\n",
    "    \"\"\" Finds and returns the mode (most frequently ocurring item) of a set\n",
    "    \"\"\"\n",
    "    most = max(list(map(array.count, array)))\n",
    "    return list(set(filter(lambda x: array.count(x) == most, array)))\n",
    "\n",
    "print mode(4, 3, 1, 6, 1, 7), mode(1,1,1,2,1), mode(1,1,1,3,2,3,3,4)"
   ]
  },
  {
   "cell_type": "code",
   "execution_count": null,
   "metadata": {
    "collapsed": true
   },
   "outputs": [],
   "source": []
  }
 ],
 "metadata": {
  "kernelspec": {
   "display_name": "Python 2",
   "language": "python",
   "name": "python2"
  },
  "language_info": {
   "codemirror_mode": {
    "name": "ipython",
    "version": 2
   },
   "file_extension": ".py",
   "mimetype": "text/x-python",
   "name": "python",
   "nbconvert_exporter": "python",
   "pygments_lexer": "ipython2",
   "version": "2.7"
  }
 },
 "nbformat": 4,
 "nbformat_minor": 2
}
