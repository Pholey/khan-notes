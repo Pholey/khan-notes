{
 "cells": [
  {
   "cell_type": "markdown",
   "metadata": {},
   "source": [
    "We talked about ways to represent the central tendency, or the _average of a dataset_. Here we are going to expand on that.\n",
    "\n",
    "Lets say we have the set S:\n",
    "```\n",
    "S = -10, 0, 10, 20, 30\n",
    "```\n",
    "\n",
    "and the set _T_:\n",
    "```\n",
    "T = 8, 9, 10, 11, 12\n",
    "```\n",
    "\n",
    "Here we assume that T and U make up the _entire population_\n",
    "Calculating the _population_ mean of both sets:\n",
    "For _S_:\n",
    "```\n",
    " -10 + 0 + 10 + 20 + 30\n",
    "-------------------------\n",
    "           5\n",
    "\n",
    "= 10\n",
    "```\n",
    "\n",
    "And for _T_:\n",
    "```\n",
    "  8 + 9 + 10 + 11 + 12\n",
    "-------------------------\n",
    "           5\n",
    "\n",
    "= 10\n",
    "```\n",
    "\n",
    "Here we can see _T_ and _S_ have the same exact _population mean_.\n",
    "But when you look at these two datasets, There is a distinct difference between the two sets. Set _S_ has values with a much larger range than _T_. All of the values from set _S_ have a large difference from `10`, whereas in _T_ they are all tightly clumped around 10. In other words, _S_ is more _disperse_ than _T_.\n",
    "\n",
    "So lets think about different ways we can measure _dispersion_, or _how far are we from the center, on average?_\n",
    "\n",
    "### Range: max - min\n",
    "Although simple and not used often, its a way of understanding the spread of data.\n",
    "If we apply these to our datasets:\n",
    "```\n",
    "range(_S_) = 40\n",
    "range(_T_) = 4\n",
    "```\n",
    "\n",
    "As we can see here, in this case range is a pretty good measure of dispersion. But sometimes range isn't good enough.. Sometimes you will have datasets that have the same range, but because of how data can be bunched up it's possible for these sets to have different distributions. \n",
    "\n",
    "### Enter Variance  ( σ² ) \n",
    "Description: For each datapoint _x_ in the set _U_, Find the difference between mean(U) and x, then square the result and add them together. divide by the length(_U_)\n",
    "\n",
    "Here's an example of calculating σ² for set _S_:\n",
    "```\n",
    "(-10 - 10)² + (0 - 10)² + (10 - 10)² + 20 - 10)² + (30 - 10)²\n",
    "-------------------------------------------------------------\n",
    "                             5\n",
    "```\n",
    "\n",
    "or in python:"
   ]
  },
  {
   "cell_type": "code",
   "execution_count": 10,
   "metadata": {},
   "outputs": [
    {
     "data": {
      "text/plain": [
       "(200.0, 2.0)"
      ]
     },
     "execution_count": 10,
     "metadata": {},
     "output_type": "execute_result"
    }
   ],
   "source": [
    "S = [-10, 0, 10, 20, 30]\n",
    "T = [8, 9, 10, 11, 12]\n",
    "\n",
    "mean = lambda *l: sum(l) / float(len(l))\n",
    "sigma_squared = lambda *s: sum([(x - mean(*s)) ** 2 for x in s]) / len(s) # Just a beefed up mean function\n",
    "sigma_squared(*S), sigma_squared(*T)"
   ]
  },
  {
   "cell_type": "markdown",
   "metadata": {},
   "source": [
    "Here we can see that the variance of _S_ was 200, where the variance of _T_ was only 2! This is a much better representation of the two sets.\n",
    "\n",
    "## Standard Deviation (σ):\n",
    "(Just the square root of the σ²)\n",
    "\n",
    "So the Standard Deviation of _T_ and _S_ would be:"
   ]
  },
  {
   "cell_type": "code",
   "execution_count": 11,
   "metadata": {},
   "outputs": [
    {
     "data": {
      "text/plain": [
       "(14.142135623730951, 1.4142135623730951)"
      ]
     },
     "execution_count": 11,
     "metadata": {},
     "output_type": "execute_result"
    }
   ],
   "source": [
    "import math\n",
    "\n",
    "sigma = lambda *l: math.sqrt(sigma_squared(*l))\n",
    "\n",
    "sigma(*S), sigma(*T)"
   ]
  },
  {
   "cell_type": "markdown",
   "metadata": {
    "collapsed": true
   },
   "source": [
    "Intuitively, these numbers make sense. On average _S_ has _ten times_ the standard deviation than _T_. (-10, 0, 20 are 10 away from 10)"
   ]
  },
  {
   "cell_type": "markdown",
   "metadata": {},
   "source": [
    "## Variance of a population:\n",
    "\n",
    "Lets say i'm trying to judge how many years of experience an entire population of people in an organisation have.\n",
    "\n",
    "```\n",
    "Years of experiance\n",
    "--------------------\n",
    "        1\n",
    "        3\n",
    "        5\n",
    "        7\n",
    "        14\n",
    "```\n",
    "\n",
    "What would be the population mean (mean years of exp) for my population\n",
    "\n",
    "Well, we could just take the mean:\n",
    "```\n",
    "                                                1 + 3 + 5 + 7 + 14\n",
    "                                     mean =     ------------------\n",
    "                                                         5\n",
    "```\n",
    "Or in fancy speak:\n",
    "\n",
    "$$m = \\frac{1}{5}\\sum_{i=1}^{5} x_i$$\n",
    "\n",
    "\n",
    "Which would ultimately, equal 6.\n",
    "Lets calculate the variance:\n",
    "$$ \\sigma^2 = \\frac{1}{n}\\sum_{i=1}^{n} (x_i - \\bar{u})^2 = 20 $$\n",
    "or\n",
    "```\n",
    "                                  (1 - 6)² + (3-6)² + (5-6)² + (7-6)² + (14 - 6)²\n",
    "                       σ2 =       -----------------------------------------------      = 20\n",
    "                                                        5\n",
    "```"
   ]
  }
 ],
 "metadata": {
  "kernelspec": {
   "display_name": "Python 2",
   "language": "python",
   "name": "python2"
  },
  "language_info": {
   "codemirror_mode": {
    "name": "ipython",
    "version": 2
   },
   "file_extension": ".py",
   "mimetype": "text/x-python",
   "name": "python",
   "nbconvert_exporter": "python",
   "pygments_lexer": "ipython2",
   "version": "2.7"
  }
 },
 "nbformat": 4,
 "nbformat_minor": 2
}
