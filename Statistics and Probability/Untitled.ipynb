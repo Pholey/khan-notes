{
 "cells": [
  {
   "cell_type": "markdown",
   "metadata": {},
   "source": [
    "Lets say you want to build a timer app that automatically times when a person records a level. In order to do this, have to to generalize on a set of games and their states to determine checkpoints in the state. \n",
    "\n",
    "We need to ask ourselves what a \"level\" is. In this example, a \"level\" is a collection of \"states\" correlating to a \"step\" (frame) in time.\n",
    "\n",
    "Knowing this, The statistical question would be: \n",
    "\"Given a certain game and a state at a specific step, tell me whether the game has is a _checkpoint_\"\n",
    "\n",
    "So let's say we have the game snake that has the state (alive=0, points collected=0) = (0,0)\n",
    "as the snake goes on, he collects multiple points\n",
    "```\n",
    "runs = [ (0,0),  (0,1),  (0,2) ..., (1, 200)] # collected 200 points and died\n",
    "```\n",
    "\n",
    "Lets say we had another game, pong. Pong doesn't have an \"alive\" state, it simply has the values of the two players:\n",
    "```\n",
    "runs2 = [(0,0), (0,0), (0,0), (1,0),(1,0),(1,0),(1,1),(1,1),(2,1)]\n",
    "```\n"
   ]
  },
  {
   "cell_type": "markdown",
   "metadata": {},
   "source": []
  },
  {
   "cell_type": "code",
   "execution_count": 7,
   "metadata": {},
   "outputs": [],
   "source": [
    "runs = [ (0,0), (0,0), (0,0), (1,0),(1,0),(1,0),(1,1),(1,1),(2,1)] # collected 200 points and died\n",
    "runs2 = [(1,0),(1,0),(1,0),(1,1),(1,1),(2,1)]\n",
    "game = 1 # int representing the first game in our set, snake\n",
    "game2 = 2 # int representing the second game, poing\n",
    "dataset1 = [game, *runs]\n",
    "dataset2 = [game2, *runs2]\n",
    "\n",
    "dataset = [dataset1, dataset2]\n",
    "\n",
    "# compute_at_checkpoint(dataset) Figure out whether we are at the checkpoint or not"
   ]
  },
  {
   "cell_type": "markdown",
   "metadata": {},
   "source": [
    "Since a convolutional net is all about making associations between data, the net could then figure out the following \"features\" given the game \"snake\" (game 1) and \"pong\" (game 2) and return them to us for inspection:\n",
    "- the first value of every game state must be `0` in order to collect points for game 1 (whether the snake is alive)\n",
    "- the highest observation of the active state for game `0` is also the highest observation of the \"points\" state\n",
    "- a single step (or checkpoint) is the distance between game1[runs[2]] - game1[runs[1]]\n",
    "\n",
    "We can then take these states and assign labels to them however we'd like. For example, we could define the time to collect a single point as a \"checkpoint\"/\"slot\"/\"ntile\""
   ]
  }
 ],
 "metadata": {
  "kernelspec": {
   "display_name": "Python 2",
   "language": "python",
   "name": "python2"
  },
  "language_info": {
   "codemirror_mode": {
    "name": "ipython",
    "version": 2
   },
   "file_extension": ".py",
   "mimetype": "text/x-python",
   "name": "python",
   "nbconvert_exporter": "python",
   "pygments_lexer": "ipython2",
   "version": "2.7"
  }
 },
 "nbformat": 4,
 "nbformat_minor": 2
}
