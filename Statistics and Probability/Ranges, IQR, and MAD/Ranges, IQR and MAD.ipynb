{
 "cells": [
  {
   "cell_type": "markdown",
   "metadata": {},
   "source": [
    "## Range\n",
    "\n",
    "_Range is the _`(maximum - minumum)`_ of a set, it represents how \"wide\" our data is._ "
   ]
  },
  {
   "cell_type": "code",
   "execution_count": 78,
   "metadata": {},
   "outputs": [
    {
     "name": "stdout",
     "output_type": "stream",
     "text": [
      "1 2 9\n"
     ]
    }
   ],
   "source": [
    "_range = lambda *l: max(l) - min(l)\n",
    "\n",
    "print _range(1,2), _range(1,3), _range(0, 9) #etc"
   ]
  },
  {
   "cell_type": "markdown",
   "metadata": {},
   "source": [
    "#### Find the _range_ of _S_ where _S_ = `{65, 81, 73, 85, 94, 79, 67, 83, 82}`"
   ]
  },
  {
   "cell_type": "code",
   "execution_count": 79,
   "metadata": {},
   "outputs": [
    {
     "name": "stdout",
     "output_type": "stream",
     "text": [
      "Range of S: 29\n"
     ]
    }
   ],
   "source": [
    "S = {65, 81, 73, 85, 94, 79, 67, 83, 82}\n",
    "print \"Range of S: %s\" % _range(*S)"
   ]
  },
  {
   "cell_type": "markdown",
   "metadata": {},
   "source": [
    "## Mid-Range\n",
    "_The Mid-Range is the average _(arithmetic mean)_ of the largest number and the smallest number_"
   ]
  },
  {
   "cell_type": "code",
   "execution_count": 80,
   "metadata": {
    "collapsed": true
   },
   "outputs": [],
   "source": [
    "midrange = lambda *a: ((max(a) + min(a)) / 2.0)"
   ]
  },
  {
   "cell_type": "markdown",
   "metadata": {},
   "source": [
    "#### Find the _Mid-Range_ of _S_:"
   ]
  },
  {
   "cell_type": "code",
   "execution_count": 81,
   "metadata": {},
   "outputs": [
    {
     "name": "stdout",
     "output_type": "stream",
     "text": [
      "Mid-Range of S: 79.5\n"
     ]
    }
   ],
   "source": [
    "print \"Mid-Range of S: %s\" % midrange(*S)"
   ]
  },
  {
   "cell_type": "markdown",
   "metadata": {},
   "source": [
    "## Interquartile Range (IQR)\n",
    "\n",
    "_Quartiles_ divide an ordered dataset into four equal parts, and refer to the values of the point between the quarters.\n",
    "\n",
    "The _Interquartile Range_ describes the middle 50% of values when ordered from lowest to highest. This helps us figure out the difference between the middle of the first half, and the middle of the second half.\n",
    "\n",
    "Lets say we have the following set S, representing the number of animal crackers in each child's lunchbox at our local elementary school:\n",
    "\n",
    "```\n",
    "S = {6, 12, 10, 11, 15, 7, 14, 4, 4}\n",
    "```\n",
    "\n",
    "Plotted on a frequency graph this may look like:"
   ]
  },
  {
   "cell_type": "code",
   "execution_count": 82,
   "metadata": {},
   "outputs": [
    {
     "data": {
      "image/png": "[encoded data removed]",
      "text/plain": [
       "<matplotlib.figure.Figure at 0x1084ce7d0>"
      ]
     },
     "metadata": {},
     "output_type": "display_data"
    }
   ],
   "source": [
    "import numpy as np\n",
    "import matplotlib.pyplot as plt\n",
    "\n",
    "def create_freqbar_chart(S2, color, title=\"\", ylabel=\"Lunchboxes\", xlabel=\"Crackers\"):\n",
    "    x2 = range(min(S2), max(S2) + 1)\n",
    "    y2 = ([S2.count(y) for y in x2])\n",
    "    plt.bar(x2, y2, color=color)\n",
    "    plt.ylabel(ylabel)\n",
    "    plt.yticks(y2)\n",
    "    plt.xticks(x2)\n",
    "    plt.title(title)\n",
    "    plt.xlabel(xlabel)\n",
    "    plt.show()\n",
    "\n",
    "S = [ 6, 12, 10, 11, 15, 7, 14, 4, 4 ]\n",
    "create_freqbar_chart(S, [1,0,0,1])"
   ]
  },
  {
   "cell_type": "markdown",
   "metadata": {},
   "source": [
    "\n",
    "\n",
    "To find the IQR, we first need to sort the numbers and find the median:\n",
    "```\n",
    "{ 4, 4, 6, 7, (10 median), 11, 12, 14, 15}\n",
    "```"
   ]
  },
  {
   "cell_type": "code",
   "execution_count": 83,
   "metadata": {},
   "outputs": [
    {
     "name": "stdout",
     "output_type": "stream",
     "text": [
      "Median for [4, 4, 6, 7, 10, 11, 12, 14, 15] is 10\n"
     ]
    }
   ],
   "source": [
    "import numpy\n",
    "def median(lst):\n",
    "    return numpy.median(numpy.array(lst))\n",
    "\n",
    "S = sorted([4, 4, 10, 11, 15, 7, 14, 12, 6])\n",
    "s_median = int(median(S))\n",
    "\n",
    "print(\"Median for %s is %s\" % (S, s_median))"
   ]
  },
  {
   "cell_type": "markdown",
   "metadata": {},
   "source": [
    "Since the IQR is the _difference between the two halves_, we split the set by the median and calculate each subset's medians, and then subtract the result.\n",
    "\n",
    "```\n",
    "Su =  median({ 4, 4, 6, 7 }) => 13\n",
    "                -\n",
    "St = median({ 11, 12, 14, 15 }) => 5\n",
    "```\n",
    "\n",
    "```IQR = 13 - 5 = 8```"
   ]
  },
  {
   "cell_type": "code",
   "execution_count": 84,
   "metadata": {},
   "outputs": [
    {
     "name": "stdout",
     "output_type": "stream",
     "text": [
      "IQR: 8 \n"
     ]
    }
   ],
   "source": [
    "# Calculating S's IQR where len(S) is odd\n",
    "Su = S[S.index(s_median) + 1:]\n",
    "St = S[:S.index(s_median)] \n",
    "su_median, st_median = median(Su), median(St)\n",
    "\n",
    "print \"IQR: %i \" % (su_median - st_median)"
   ]
  },
  {
   "cell_type": "markdown",
   "metadata": {},
   "source": [
    "Lets try another example:\n",
    "\n",
    "We have the following set S, representing the number of songs in each album of a collection:\n",
    "\n",
    "```\n",
    "S = [7,9,9,10,10,10,11,12,12,14]\n",
    "```\n",
    "\n",
    "One interesting thing about _S_ is that it has an even number of data points. In our last example we had to split by the odd number and omit the data point from `Su` and `St`. This time, since we have two data points in the middle, we can calculate the arithmetic mean of them and include them in each bucket."
   ]
  },
  {
   "cell_type": "code",
   "execution_count": 85,
   "metadata": {},
   "outputs": [
    {
     "name": "stdout",
     "output_type": "stream",
     "text": [
      "IQR: 3 \n"
     ]
    }
   ],
   "source": [
    "# Calculating S's IQR where len(S) is even\n",
    "S = sorted([7,9,9,10,10,10,11,12,12,14])\n",
    "Su = S[len(S) / 2:]\n",
    "St = S[:len(S) / 2]\n",
    "su_median, st_median = median(Su), median(St)\n",
    "\n",
    "print \"IQR: %i \" % (su_median - st_median)"
   ]
  },
  {
   "cell_type": "code",
   "execution_count": 86,
   "metadata": {},
   "outputs": [
    {
     "name": "stdout",
     "output_type": "stream",
     "text": [
      "3.0 8.0\n"
     ]
    }
   ],
   "source": [
    "def iqr(*l):\n",
    "    \"\"\" Naive implementation of iqr\n",
    "    \"\"\"\n",
    "    S = sorted(l)\n",
    "    if (len(S) % 2 == 0):\n",
    "        # Split the dataset into two buckets (each containing 2 quartiles)\n",
    "        Su = S[len(S) / 2:]\n",
    "        St = S[:len(S) / 2]\n",
    "    else:\n",
    "        s_median = median(l)\n",
    "        # Split by the median and omit it\n",
    "        Su = S[S.index(s_median) + 1:]\n",
    "        St = S[:S.index(s_median)]\n",
    "        \n",
    "    # Find the median of each bucket (median(q1, q2), median(q3, q4))\n",
    "    su_median, st_median = median(Su), median(St)\n",
    "    return (su_median - st_median)\n",
    "\n",
    "print iqr(7,9,9,10,10,10,1,12,12,14), iqr(4, 4, 10, 11, 15, 7, 14, 12, 6)"
   ]
  },
  {
   "cell_type": "markdown",
   "metadata": {},
   "source": [
    "## Mean Absolute Deviation\n",
    "_Mean absolute deviation_ (MAD) of a data set is the average distance between each data value and the mean. Mean absolute deviation is a way to describe variation in a data set. Mean absolute deviation helps us get a sense of how \"spread out\" the values in a data set are.\n",
    "\n",
    "\n",
    "For example, say we have two sets of data:\n",
    "\n",
    "```\n",
    "S1 = 2,2,4,4\n",
    "S2 = 1,1,6,4\n",
    "```"
   ]
  },
  {
   "cell_type": "code",
   "execution_count": 87,
   "metadata": {},
   "outputs": [
    {
     "data": {
      "image/png": "[encoded data removed]",
      "text/plain": [
       "<matplotlib.figure.Figure at 0x10857cb50>"
      ]
     },
     "metadata": {},
     "output_type": "display_data"
    },
    {
     "data": {
      "image/png": "[encoded data removed]",
      "text/plain": [
       "<matplotlib.figure.Figure at 0x10857c990>"
      ]
     },
     "metadata": {},
     "output_type": "display_data"
    }
   ],
   "source": [
    "S1 = [2,2,4,4]\n",
    "S2 = [1,1,6,4]\n",
    "red, blue = [1, 0, 0, 1], [0, 0, 1, 1]\n",
    "\n",
    "create_freqbar_chart(S1, red, \"S1\")\n",
    "create_freqbar_chart(S2, blue, \"S2\")"
   ]
  },
  {
   "cell_type": "markdown",
   "metadata": {},
   "source": [
    "How would we find a good measure of center for these two data sets? \n",
    "\n",
    "Well we could try the arithmetic mean of each set:"
   ]
  },
  {
   "cell_type": "code",
   "execution_count": 88,
   "metadata": {},
   "outputs": [
    {
     "data": {
      "text/plain": [
       "(3, 3)"
      ]
     },
     "execution_count": 88,
     "metadata": {},
     "output_type": "execute_result"
    }
   ],
   "source": [
    "mean = lambda *l: sum(l) / len(l)\n",
    "S1_mean = mean(2,2,4,4)\n",
    "S2_mean = mean(1,1,6,4)\n",
    "\n",
    "S1_mean, S2_mean"
   ]
  },
  {
   "cell_type": "markdown",
   "metadata": {
    "collapsed": true
   },
   "source": [
    "But upon looking at the visualization there's something about these two datasets that \"feel\" a little bit different, Something the aritimetic mean doesn't quite capture. The means are the same, but the datasets look different. \n",
    "\n",
    "Some examples of deviations not captured by the mean:\n",
    "- `S2` has a much larger range than `S1`\n",
    "- `S1` has no skew, it is symmetrical, whereas `S2` has a right-facing tail\n",
    "- `S2` has more values away from the mean (3) than `S1` on average\n",
    "\n",
    "This is an interesting question we ask ourselves in statistics. We do not always want a measure of _center_, like the arithimetic mean. We may also want a measure of _variability_.\n",
    "\n",
    "### Calculating Variability with MAD\n",
    "So what _is_ variabilty? One way to think about variability is:\n",
    "_\"On average, how far are each of the datapoints from the mean?\"_\n",
    "\n",
    "Continuing our example with `S1` and `S2`: \n",
    "- We need to go through each datapoint in each set and calculate the _absolute deviation_ from the mean. (The D in MAD).\n",
    "- We then sum those distances and divide by the number of datapoints (the M in MAD) \n",
    "- and finally recieve our average (A in MAD).\n",
    "\n",
    "For example, we can compute the variability of S1 like so:\n",
    "```\n",
    "|2-3| + |2-3| + |4-3| + |4-3|\n",
    "------------------------------\n",
    "              4\n",
    "```\n",
    "\n",
    "Or in python:"
   ]
  },
  {
   "cell_type": "code",
   "execution_count": 89,
   "metadata": {},
   "outputs": [
    {
     "name": "stdout",
     "output_type": "stream",
     "text": [
      "2.0\n"
     ]
    }
   ],
   "source": [
    "S2_variability = sum([abs(x - median(S2)) for x in S2 ]) / len(S2)\n",
    "print S2_variability"
   ]
  },
  {
   "cell_type": "markdown",
   "metadata": {},
   "source": [
    "The process of calculating variability like so is \"Mean Absolute Deviation\""
   ]
  },
  {
   "cell_type": "code",
   "execution_count": 90,
   "metadata": {
    "collapsed": true
   },
   "outputs": [],
   "source": [
    "mad = lambda *l: sum([abs(x - median(l)) for x in l ]) / len(l)"
   ]
  },
  {
   "cell_type": "code",
   "execution_count": 98,
   "metadata": {},
   "outputs": [
    {
     "name": "stdout",
     "output_type": "stream",
     "text": [
      "Variability of S1: 1.0\n",
      "Variability of S2: 2.0\n"
     ]
    }
   ],
   "source": [
    "print (\"Variability of S1: %s\\n\" +\n",
    "       \"Variability of S2: %s\") % (mad(*S1), mad(*S2))"
   ]
  },
  {
   "cell_type": "markdown",
   "metadata": {},
   "source": [
    "As we can see, 1.0, 2.0 much better represents the variability in the data than 3, 3"
   ]
  }
 ],
 "metadata": {
  "kernelspec": {
   "display_name": "Python 2",
   "language": "python",
   "name": "python2"
  },
  "language_info": {
   "codemirror_mode": {
    "name": "ipython",
    "version": 2
   },
   "file_extension": ".py",
   "mimetype": "text/x-python",
   "name": "python",
   "nbconvert_exporter": "python",
   "pygments_lexer": "ipython2",
   "version": "2.7"
  }
 },
 "nbformat": 4,
 "nbformat_minor": 2
}
