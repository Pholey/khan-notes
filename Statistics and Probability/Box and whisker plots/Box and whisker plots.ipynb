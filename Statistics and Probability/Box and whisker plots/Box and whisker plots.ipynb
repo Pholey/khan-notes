{
 "cells": [
  {
   "cell_type": "code",
   "execution_count": 145,
   "metadata": {
    "collapsed": true
   },
   "outputs": [],
   "source": [
    "# Functions used in this notebook ======================================="
   ]
  },
  {
   "cell_type": "code",
   "execution_count": 146,
   "metadata": {},
   "outputs": [],
   "source": [
    "import matplotlib.pyplot as plt\n",
    "import numpy as np\n",
    "\n",
    "def median(lst):\n",
    "    return np.median(np.array(lst))\n",
    "\n",
    "def iqr_subset(l):\n",
    "    \"\"\" Splits the set in on the median depending on whether the size is even or odd.\n",
    "        NOTE: In all cases the median is omitted \"\"\"\n",
    "\n",
    "    S = sorted(l)\n",
    "    if (len(S) % 2 == 0):\n",
    "        # Split the dataset into two buckets (each containing 2 quartiles)\n",
    "        Su = S[len(S) / 2:]\n",
    "        St = S[:len(S) / 2]\n",
    "    else:\n",
    "        s_median = median(l)\n",
    "\n",
    "        # Split by the median and omit it\n",
    "        Su = S[S.index(s_median) + 1:]\n",
    "        St = S[:S.index(s_median)]\n",
    "    return (Su, St)\n",
    "\n",
    "def iqr(*l):\n",
    "    \"\"\" implementation of Interquartile Range\n",
    "    \"\"\"\n",
    "    # Get our pairs of quartiles\n",
    "    Su, St = iqr_subset(l)\n",
    "        \n",
    "    # Find the median of each bucket (median(q1, q2), median(q3, q4))\n",
    "    su_median, st_median = median(Su), median(St)\n",
    "    return (su_median - st_median)\n",
    "\n",
    "def draw_box_and_whisker(d):\n",
    "    plt.boxplot(d, 0, 'rs', 0)\n",
    "\n",
    "    # Add some space around the graph\n",
    "    plt.xticks(range(min(d) -1, max(d) + 2))\n",
    "    plt.yticks([])\n",
    "    plt.xlabel(\"x100 tickets sold daily\")\n",
    "    plt.figure()\n",
    "    plt.show()\n",
    "    \n",
    "# ======================================================================="
   ]
  },
  {
   "cell_type": "markdown",
   "metadata": {},
   "source": [
    "## How to understand and draw \"Box and Whisker\" plots\n",
    "\n",
    "Let's say we have the dataset _S_, representing the number of tickets sold daily for a popular vampire movie during the month of December. The box plot below shows the data for the number of tickets sold, in hundreds.\n",
    "\n",
    "```\n",
    "S = 5,2,10,6,2,8,8,1,2,5,7,3,3,4\n",
    "```\n",
    "This can be represented by the following:"
   ]
  },
  {
   "cell_type": "code",
   "execution_count": 147,
   "metadata": {},
   "outputs": [
    {
     "data": {
      "image/png": "[encoded data removed]",
      "text/plain": [
       "<matplotlib.figure.Figure at 0x108e15710>"
      ]
     },
     "metadata": {},
     "output_type": "display_data"
    },
    {
     "data": {
      "text/plain": [
       "<matplotlib.figure.Figure at 0x108f1cf10>"
      ]
     },
     "metadata": {},
     "output_type": "display_data"
    }
   ],
   "source": [
    "S = [5,2,10,6,2,8,8,1,2,5,7,3,3,4]\n",
    "draw_box_and_whisker(S)"
   ]
  },
  {
   "cell_type": "code",
   "execution_count": null,
   "metadata": {
    "collapsed": true
   },
   "outputs": [],
   "source": []
  },
  {
   "cell_type": "markdown",
   "metadata": {},
   "source": [
    "Let's see what tools we can apply to figure out what this means from the opposite end:"
   ]
  },
  {
   "cell_type": "code",
   "execution_count": 153,
   "metadata": {},
   "outputs": [
    {
     "name": "stdout",
     "output_type": "stream",
     "text": [
      "Interquartile Range of S: 500.0 tickets\n",
      "Median of S: 450.0 tickets\n",
      "Median of left-most S: 200.0\n",
      "Median of right-most S: 700.0\n",
      "Maximum tickets sold daily: 1000\n",
      "Minimum tickets sold daily: 100\n",
      "\n",
      "Where S is the dataset representing number of tickets sold \n",
      "daily for a popular vampire movie during the month of December\n"
     ]
    }
   ],
   "source": [
    "# Get quartile subsets of S\n",
    "Su, St = iqr_subset(S)\n",
    "\n",
    "# Grab their median x100 tickets:\n",
    "Su_med, St_med = median(Su) * 100, median(St) * 100\n",
    "print (\n",
    "    \"Interquartile Range of S: %s tickets\\n\"\n",
    "    \"Median of S: %s tickets\\n\"\n",
    "    \"Median of left-most S: %s\\n\"\n",
    "    \"Median of right-most S: %s\\n\"\n",
    "    \"Maximum tickets sold daily: %s\\n\"\n",
    "    \"Minimum tickets sold daily: %s\\n\\n\"\n",
    "    \"Where S is the dataset representing number of tickets sold \\n\"\n",
    "    \"daily for a popular vampire movie during the month of December\"\n",
    "    # Expand to x100\n",
    ") % (\n",
    "        iqr(*S) * 100,    # IGR range \n",
    "        median(S) * 100,  # Median of S\n",
    "        St_med,           # Median of left-most S\n",
    "        Su_med,           # Median of right-most S\n",
    "        max(S) * 100,     # Max of S\n",
    "        min(S) * 100      # Min of S\n",
    "    )"
   ]
  },
  {
   "cell_type": "markdown",
   "metadata": {},
   "source": [
    "Here we can see a couple of things about how _S_ correlates to the plot:\n",
    "   - The red line correlates to `median(S)`\n",
    "   - The left-most whisker correlates to `min(S)`\n",
    "   - the right-most whisker correlates to `max(S)`\n",
    "    "
   ]
  }
 ],
 "metadata": {
  "kernelspec": {
   "display_name": "Python 2",
   "language": "python",
   "name": "python2"
  },
  "language_info": {
   "codemirror_mode": {
    "name": "ipython",
    "version": 2
   },
   "file_extension": ".py",
   "mimetype": "text/x-python",
   "name": "python",
   "nbconvert_exporter": "python",
   "pygments_lexer": "ipython2",
   "version": "2.7"
  }
 },
 "nbformat": 4,
 "nbformat_minor": 2
}
