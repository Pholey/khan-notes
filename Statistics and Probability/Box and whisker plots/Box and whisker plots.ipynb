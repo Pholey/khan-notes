{
 "cells": [
  {
   "cell_type": "code",
   "execution_count": 2,
   "metadata": {
    "collapsed": true
   },
   "outputs": [],
   "source": [
    "# Functions used in this notebook ======================================="
   ]
  },
  {
   "cell_type": "code",
   "execution_count": 3,
   "metadata": {
    "collapsed": true
   },
   "outputs": [],
   "source": [
    "import matplotlib.pyplot as plt\n",
    "import numpy as np\n",
    "\n",
    "def median(lst):\n",
    "    return np.median(np.array(lst))\n",
    "\n",
    "_range = lambda *l: max(l) - min(l)\n",
    "\n",
    "def iqr_sets(l):\n",
    "    \"\"\" Splits the set in on the median depending on whether the size is even or odd.\n",
    "        NOTE: In all cases the median is omitted \"\"\"\n",
    "\n",
    "    S = sorted(l)\n",
    "    if (len(S) % 2 == 0):\n",
    "        # Split the dataset into two buckets (each containing 2 quartiles)\n",
    "        Su = S[len(S) / 2:]\n",
    "        St = S[:len(S) / 2]\n",
    "    else:\n",
    "        s_median = median(l)\n",
    "\n",
    "        # Split by the median and omit it\n",
    "        Su = S[S.index(s_median) + 1:]\n",
    "        St = S[:S.index(s_median)]\n",
    "    return (Su, St)\n",
    "\n",
    "def iqr(*l):\n",
    "    \"\"\" implementation of Interquartile Range\n",
    "    \"\"\"\n",
    "    # Get our pairs of quartiles\n",
    "    Su, St = iqr_sets(l)\n",
    "        \n",
    "    # Find the median of each bucket (median(q1, q2), median(q3, q4))\n",
    "    su_median, st_median = median(Su), median(St)\n",
    "    return (su_median - st_median)\n",
    "\n",
    "def draw_box_and_whisker(d):\n",
    "    plt.boxplot(d, 0, 'rs', 0)\n",
    "\n",
    "    # Add some space around the graph\n",
    "    plt.xticks(range(min(d) -1, max(d) + 2))\n",
    "    plt.yticks([])\n",
    "    plt.xlabel(\"x100 tickets sold daily\")\n",
    "    plt.figure()\n",
    "    plt.show()\n",
    "    \n",
    "# ======================================================================="
   ]
  },
  {
   "cell_type": "markdown",
   "metadata": {},
   "source": [
    "## Why the Box and Whisker plot?\n",
    "###### [Statistics Canada](http://www.statcan.gc.ca/edu/power-pouvoir/ch12/5214889-eng.htm), \"Constructing box and whisker plots\", _Statistics: Power from Data! Box and Whisker plots_, April 3, 2001\n",
    "\n",
    "A _box and whisker plot_ (sometimes called a boxplot) is a graph that presents information from a five-number summary. It does not show a distribution in as much detail as a stem and leaf plot or histogram does, but is especially useful for indicating whether a distribution is skewed and whether there are potential unusual observations (outliers) in the data set. Box and whisker plots are also very useful when large numbers of observations are involved and when two or more data sets are being compared.\n",
    "\n",
    "Box and whisker plots are ideal for comparing distributions because the centre, spread and overall range are immediately apparent. A box and whisker plot is a way of summarizing a set of data measured on an interval scale. It is often used in explanatory data analysis. This type of graph is used to show the shape of the distribution, its central value, and its variability.\n",
    "\n",
    "## Reading a Box and Whisker plot:\n",
    "In a box and whisker plot:\n",
    "  - the ends of the box are the upper and lower quartiles, so the box spans the interquartile range\n",
    "  - the median is marked by a vertical line inside the box\n",
    "  - the whiskers are the two lines outside the box that extend to the highest and lowest observations.\n",
    "  "
   ]
  },
  {
   "cell_type": "markdown",
   "metadata": {},
   "source": [
    "## Creating \"Box and Whisker\" plots\n",
    "\n",
    "Let's say we have the dataset _S_, representing the number of tickets sold daily for a popular vampire movie during the month of December. The box plot below shows the data for the number of tickets sold, in hundreds.\n",
    "\n",
    "```\n",
    "S = 5,2,10,6,2,8,8,1,2,5,7,3,3,4\n",
    "```\n",
    "This can be represented by the following:"
   ]
  },
  {
   "cell_type": "code",
   "execution_count": 4,
   "metadata": {},
   "outputs": [
    {
     "data": {
      "image/png": "[encoded data removed]",
      "text/plain": [
       "<matplotlib.figure.Figure at 0x108217ed0>"
      ]
     },
     "metadata": {},
     "output_type": "display_data"
    },
    {
     "data": {
      "text/plain": [
       "<matplotlib.figure.Figure at 0x10956fe50>"
      ]
     },
     "metadata": {},
     "output_type": "display_data"
    }
   ],
   "source": [
    "S = [5,2,10,6,2,8,8,1,2,5,7,3,3,4]\n",
    "draw_box_and_whisker(S)"
   ]
  },
  {
   "cell_type": "markdown",
   "metadata": {},
   "source": [
    "Let's try to recreate the result's of the five-number summary of the box and whiskers plot. Let's solve for the edges of the box first (the upper/lower quartiles)"
   ]
  },
  {
   "cell_type": "code",
   "execution_count": 5,
   "metadata": {},
   "outputs": [
    {
     "name": "stdout",
     "output_type": "stream",
     "text": [
      "Interquartile range of S: 5.0\n",
      "Higher Quartel: 7.0\n",
      "Lower Quartel: 2.0\n"
     ]
    }
   ],
   "source": [
    "# get the sets making up the interquartile range of S (Su + St = igr(S))\n",
    "Su, St = iqr_sets(S)\n",
    "\n",
    "higher = median(Su) # q3, right-most edge of box\n",
    "lower = median(St)  # q1, left-most edge of box\n",
    "\n",
    "print(\"Interquartile range of S: %s\" % iqr(*S))\n",
    "print (\"Higher Quartel: %s\\nLower Quartel: %s\" % (higher, lower))"
   ]
  },
  {
   "cell_type": "markdown",
   "metadata": {},
   "source": [
    "We can see here that the quartels satisfy the Interquartile Range of S:\n",
    "\n",
    "```\n",
    "iqr(S) = su_median - st_median\n",
    "```\n",
    "\n",
    "or\n",
    "\n",
    "```\n",
    "IQR = Q3 - Q1\n",
    "```"
   ]
  },
  {
   "cell_type": "code",
   "execution_count": 6,
   "metadata": {},
   "outputs": [
    {
     "name": "stdout",
     "output_type": "stream",
     "text": [
      "Median of S: 4.5\n"
     ]
    }
   ],
   "source": [
    "# Get the median of S (Red line)\n",
    "med = median(S) # Q2\n",
    "\n",
    "print \"Median of S:\", med"
   ]
  },
  {
   "cell_type": "code",
   "execution_count": 13,
   "metadata": {},
   "outputs": [
    {
     "name": "stdout",
     "output_type": "stream",
     "text": [
      "Highest data point:  10  \n",
      "Lowest data point:  1\n"
     ]
    }
   ],
   "source": [
    "# Get the left and right whiskers (highest/lowest observations)\n",
    "highest_ob = max(S)\n",
    "lowest_ob = min(S)\n",
    "\n",
    "print \"Highest data point: \", highest_ob, \" \\nLowest data point: \", lowest_ob"
   ]
  },
  {
   "cell_type": "markdown",
   "metadata": {},
   "source": [
    "All together that gives us our 5 number summary! More importantly, they all match our plot! We now could take this information and construct our own boxplot.\n",
    "\n",
    "|                    |      |\n",
    "|--------------------|------|\n",
    "| Higher Quartel     | 7.0  |\n",
    "| Lower Quartel      | 2.0  |\n",
    "| Median of S        | 4.5  |\n",
    "| Highest data point |  10  | \n",
    "| Lowest data point  |  1   | "
   ]
  },
  {
   "cell_type": "markdown",
   "metadata": {},
   "source": [
    "Finally, let's wrap that all up in a function to extract a summary from a dataset:"
   ]
  },
  {
   "cell_type": "code",
   "execution_count": 8,
   "metadata": {},
   "outputs": [
    {
     "data": {
      "text/plain": [
       "(2.0, 4.5, 7.0, 10, 1)"
      ]
     },
     "execution_count": 8,
     "metadata": {},
     "output_type": "execute_result"
    }
   ],
   "source": [
    "def get_summary(l):\n",
    "    Su, St = iqr_sets(l)\n",
    "\n",
    "    lower = median(St)  # Q1, lowest data spread\n",
    "    med = median(l)     # Q2, middle of spread\n",
    "    higher = median(Su) # Q3, highest data spread\n",
    "    higest_data_point = max(l)\n",
    "    lowest_data_point = min(l)\n",
    "    \n",
    "    return lower, med, higher, higest_data_point, lowest_data_point\n",
    "\n",
    "get_summary(S)"
   ]
  },
  {
   "cell_type": "markdown",
   "metadata": {},
   "source": [
    "\n",
    "## Interpreting box plots\n",
    "\n",
    "Continuing with our example, lets say the set _X_ represent's the _5 number result summary_ of _S_\n",
    "\n",
    "```\n",
    "X = 2, 4.5, 7, 10, 1\n",
    "```\n",
    "\n",
    "Here is the boxplot representing X:"
   ]
  },
  {
   "cell_type": "code",
   "execution_count": 15,
   "metadata": {},
   "outputs": [
    {
     "data": {
      "image/png": "[encoded data removed]",
      "text/plain": [
       "<matplotlib.figure.Figure at 0x109837750>"
      ]
     },
     "metadata": {},
     "output_type": "display_data"
    },
    {
     "data": {
      "text/plain": [
       "<matplotlib.figure.Figure at 0x10985f110>"
      ]
     },
     "metadata": {},
     "output_type": "display_data"
    }
   ],
   "source": [
    "draw_box_and_whisker(S)\n",
    "\n",
    "X = [2, 4.5, 7, 10, 1]"
   ]
  },
  {
   "cell_type": "markdown",
   "metadata": {},
   "source": [
    "Note: You can recreate this plot directly from the result summary too:"
   ]
  },
  {
   "cell_type": "code",
   "execution_count": 20,
   "metadata": {},
   "outputs": [
    {
     "name": "stdout",
     "output_type": "stream",
     "text": [
      "[10, 4.5, 4.5, 6, 6, 7, 7, 8.5]\n"
     ]
    },
    {
     "data": {
      "image/png": "[encoded data removed]",
      "text/plain": [
       "<matplotlib.figure.Figure at 0x109a4da90>"
      ]
     },
     "metadata": {},
     "output_type": "display_data"
    },
    {
     "data": {
      "text/plain": [
       "<matplotlib.figure.Figure at 0x109ae6e50>"
      ]
     },
     "metadata": {},
     "output_type": "display_data"
    }
   ],
   "source": [
    "def expand_summary(s):\n",
    "    lower, med, higher, highest_data_point, lowest_data_point = s\n",
    "    ds = []\n",
    "    # Expand into an even dataset\n",
    "    ds.append(lowest_data_point)\n",
    "    ds.append(lower)\n",
    "    ds.append(lower)\n",
    "    ds.append(med)\n",
    "    ds.append(med)\n",
    "    ds.append(higher)\n",
    "    ds.append(higher)\n",
    "    ds.append(highest_data_point)\n",
    "    \n",
    "    return ds\n",
    "\n",
    "print(expand_summary(s))\n",
    "draw_box_and_whisker(expand_summary(X))"
   ]
  },
  {
   "cell_type": "code",
   "execution_count": null,
   "metadata": {},
   "outputs": [],
   "source": []
  },
  {
   "cell_type": "markdown",
   "metadata": {},
   "source": [
    "## Examples:\n",
    "\n",
    "Find the interquartile range (IQR) of the data in the summary below.\n",
    "\n",
    "_Hint: IQR = Q3 - Q1_"
   ]
  },
  {
   "cell_type": "code",
   "execution_count": 9,
   "metadata": {},
   "outputs": [
    {
     "name": "stdout",
     "output_type": "stream",
     "text": [
      "The IQR of [6, 7, 8.5, 10, 4.5] is 2.5\n",
      "The IQR of [5, 6, 8, 22, 25] is 16\n",
      "The IQR of [2.5, 4, 6.5, 7, 8.5] is 3\n"
     ]
    }
   ],
   "source": [
    "s = [6, 7, 8.5, 10, 4.5] # Summary\n",
    "lower, med, higher, higherst_data_point, lowest_data_point = s\n",
    "\n",
    "iqr = higher - lower \n",
    "print \"The IQR of %s is %s\" % (s, iqr)\n",
    "\n",
    "s = [5,6,8,22,25]\n",
    "lowest_data_point, lower, med, higher, higherst_data_point = s\n",
    "iqr = higher - lower\n",
    "print \"The IQR of %s is %s\" % (s, iqr)\n",
    "\n",
    "s = [2.5,4,6.5,7,8.5]\n",
    "lowest_data_point, lower, med, higher, higherst_data_point = s\n",
    "iqr = higher - lower\n",
    "print \"The IQR of %s is %s\" % (s, iqr)"
   ]
  },
  {
   "cell_type": "markdown",
   "metadata": {},
   "source": [
    "Find the range of the data in the summary below.\n",
    "\n",
    "_Hint: Range = Max − Min_"
   ]
  },
  {
   "cell_type": "code",
   "execution_count": 10,
   "metadata": {},
   "outputs": [
    {
     "name": "stdout",
     "output_type": "stream",
     "text": [
      "The range of [4.5, 6, 7, 8.5, 10] is 5.5\n"
     ]
    }
   ],
   "source": [
    "s = [4.5, 6, 7, 8.5, 10]\n",
    "lowest_data_point, lower, med, higher, higherst_data_point = s\n",
    "r = higherst_data_point - lowest_data_point\n",
    "print \"The range of %s is %s\" % (s, r)"
   ]
  }
 ],
 "metadata": {
  "kernelspec": {
   "display_name": "Python 2",
   "language": "python",
   "name": "python2"
  },
  "language_info": {
   "codemirror_mode": {
    "name": "ipython",
    "version": 2
   },
   "file_extension": ".py",
   "mimetype": "text/x-python",
   "name": "python",
   "nbconvert_exporter": "python",
   "pygments_lexer": "ipython2",
   "version": "2.7"
  }
 },
 "nbformat": 4,
 "nbformat_minor": 2
}
