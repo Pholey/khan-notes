{
 "cells": [
  {
   "cell_type": "code",
   "execution_count": 31,
   "metadata": {
    "collapsed": true
   },
   "outputs": [],
   "source": [
    "# Functions used in this notebook ======================================="
   ]
  },
  {
   "cell_type": "code",
   "execution_count": 32,
   "metadata": {
    "collapsed": true
   },
   "outputs": [],
   "source": [
    "import matplotlib.pyplot as plt\n",
    "import numpy as np\n",
    "\n",
    "def median(lst):\n",
    "    return np.median(np.array(lst))\n",
    "\n",
    "def iqr_sets(l):\n",
    "    \"\"\" Splits the set in on the median depending on whether the size is even or odd.\n",
    "        NOTE: In all cases the median is omitted \"\"\"\n",
    "\n",
    "    S = sorted(l)\n",
    "    if (len(S) % 2 == 0):\n",
    "        # Split the dataset into two buckets (each containing 2 quartiles)\n",
    "        Su = S[len(S) / 2:]\n",
    "        St = S[:len(S) / 2]\n",
    "    else:\n",
    "        s_median = median(l)\n",
    "\n",
    "        # Split by the median and omit it\n",
    "        Su = S[S.index(s_median) + 1:]\n",
    "        St = S[:S.index(s_median)]\n",
    "    return (Su, St)\n",
    "\n",
    "def iqr(*l):\n",
    "    \"\"\" implementation of Interquartile Range\n",
    "    \"\"\"\n",
    "    # Get our pairs of quartiles\n",
    "    Su, St = iqr_sets(l)\n",
    "        \n",
    "    # Find the median of each bucket (median(q1, q2), median(q3, q4))\n",
    "    su_median, st_median = median(Su), median(St)\n",
    "    return (su_median - st_median)\n",
    "\n",
    "def draw_box_and_whisker(d):\n",
    "    plt.boxplot(d, 0, 'rs', 0)\n",
    "\n",
    "    # Add some space around the graph\n",
    "    plt.xticks(range(min(d) -1, max(d) + 2))\n",
    "    plt.yticks([])\n",
    "    plt.xlabel(\"x100 tickets sold daily\")\n",
    "    plt.figure()\n",
    "    plt.show()\n",
    "    \n",
    "# ======================================================================="
   ]
  },
  {
   "cell_type": "markdown",
   "metadata": {},
   "source": [
    "## Why the Box and Whisker plot?\n",
    "###### [Statistics Canada](http://www.statcan.gc.ca/edu/power-pouvoir/ch12/5214889-eng.htm), \"Constructing box and whisker plots\", _Statistics: Power from Data! Box and Whisker plots_, April 3, 2001\n",
    "\n",
    "A _box and whisker plot_ (sometimes called a boxplot) is a graph that presents information from a five-number summary. It does not show a distribution in as much detail as a stem and leaf plot or histogram does, but is especially useful for indicating whether a distribution is skewed and whether there are potential unusual observations (outliers) in the data set. Box and whisker plots are also very useful when large numbers of observations are involved and when two or more data sets are being compared.\n",
    "\n",
    "Box and whisker plots are ideal for comparing distributions because the centre, spread and overall range are immediately apparent. A box and whisker plot is a way of summarizing a set of data measured on an interval scale. It is often used in explanatory data analysis. This type of graph is used to show the shape of the distribution, its central value, and its variability.\n",
    "\n",
    "## How a Box and Whisker plot works:\n",
    "In a box and whisker plot:\n",
    "  - the ends of the box are the upper and lower quartiles, so the box spans the interquartile range\n",
    "  - the median is marked by a vertical line inside the box\n",
    "  - the whiskers are the two lines outside the box that extend to the highest and lowest observations.\n",
    "  "
   ]
  },
  {
   "cell_type": "markdown",
   "metadata": {},
   "source": [
    "## Creating \"Box and Whisker\" plots\n",
    "\n",
    "Let's say we have the dataset _S_, representing the number of tickets sold daily for a popular vampire movie during the month of December. The box plot below shows the data for the number of tickets sold, in hundreds.\n",
    "\n",
    "```\n",
    "S = 5,2,10,6,2,8,8,1,2,5,7,3,3,4\n",
    "```\n",
    "This can be represented by the following:"
   ]
  },
  {
   "cell_type": "code",
   "execution_count": 33,
   "metadata": {},
   "outputs": [
    {
     "data": {
      "image/png": "[encoded data removed]",
      "text/plain": [
       "<matplotlib.figure.Figure at 0x108f39290>"
      ]
     },
     "metadata": {},
     "output_type": "display_data"
    },
    {
     "data": {
      "text/plain": [
       "<matplotlib.figure.Figure at 0x109010bd0>"
      ]
     },
     "metadata": {},
     "output_type": "display_data"
    }
   ],
   "source": [
    "S = [5,2,10,6,2,8,8,1,2,5,7,3,3,4]\n",
    "draw_box_and_whisker(S)"
   ]
  },
  {
   "cell_type": "markdown",
   "metadata": {},
   "source": [
    "Let's try to recreate the result's of the five-number summary of the box and whiskers plot. Let's solve for the edges of the box first (the upper/lower quartiles)"
   ]
  },
  {
   "cell_type": "code",
   "execution_count": 34,
   "metadata": {},
   "outputs": [
    {
     "name": "stdout",
     "output_type": "stream",
     "text": [
      "Interquartile range of S: 5.0\n",
      "Higher Quartel: 7.0\n",
      "Lower Quartel: 2.0\n"
     ]
    }
   ],
   "source": [
    "# get the sets making up the interquartile range of S (Su + St = igr(S))\n",
    "Su, St = iqr_sets(S)\n",
    "\n",
    "higher = median(Su) # q3, highest data spread\n",
    "lower = median(St)  # q1, lowest data spread\n",
    "\n",
    "print(\"Interquartile range of S: %s\" % iqr(*S))\n",
    "print (\"Higher Quartel: %s\\nLower Quartel: %s\" % (higher, lower))"
   ]
  },
  {
   "cell_type": "markdown",
   "metadata": {},
   "source": [
    "We can see here that the quartels satisfy the Interquartile Range of S:\n",
    "\n",
    "```\n",
    "igr(S) = su_median - st_median\n",
    "```"
   ]
  },
  {
   "cell_type": "code",
   "execution_count": 35,
   "metadata": {},
   "outputs": [
    {
     "name": "stdout",
     "output_type": "stream",
     "text": [
      "Median of S: 4.5\n"
     ]
    }
   ],
   "source": [
    "# Get the median of S (Red line)\n",
    "med = median(S) # Q2\n",
    "\n",
    "print \"Median of S:\", med"
   ]
  },
  {
   "cell_type": "code",
   "execution_count": 36,
   "metadata": {},
   "outputs": [
    {
     "name": "stdout",
     "output_type": "stream",
     "text": [
      "Highest data point:  10  \n",
      "Lowest data point:  1\n"
     ]
    }
   ],
   "source": [
    "# Get the left and right whiskers (highest/lowest observations)\n",
    "highest_ob = max(S)\n",
    "lowest_ob = min(S)\n",
    "\n",
    "print \"Highest data point: \", highest_ob, \" \\nLowest data point: \", lowest_ob"
   ]
  },
  {
   "cell_type": "markdown",
   "metadata": {},
   "source": [
    "All together that gives us our 5 number summary! More importantly, they all match our plot! We now could take this information and construct our own boxplot\n",
    "\n",
    "|                    |      |\n",
    "|--------------------|------|\n",
    "| Higher Quartel     | 7.0  |\n",
    "| Lower Quartel      | 2.0  |\n",
    "| Median of S        | 4.5  |\n",
    "| Highest data point |  10  | \n",
    "| Lowest data point  |  1   | "
   ]
  },
  {
   "cell_type": "code",
   "execution_count": 38,
   "metadata": {},
   "outputs": [
    {
     "data": {
      "image/png": "[encoded data removed]",
      "text/plain": [
       "<matplotlib.figure.Figure at 0x10909d1d0>"
      ]
     },
     "metadata": {},
     "output_type": "display_data"
    },
    {
     "data": {
      "text/plain": [
       "<matplotlib.figure.Figure at 0x10918e850>"
      ]
     },
     "metadata": {},
     "output_type": "display_data"
    }
   ],
   "source": [
    "draw_box_and_whisker(S)"
   ]
  }
 ],
 "metadata": {
  "kernelspec": {
   "display_name": "Python 2",
   "language": "python",
   "name": "python2"
  },
  "language_info": {
   "codemirror_mode": {
    "name": "ipython",
    "version": 2
   },
   "file_extension": ".py",
   "mimetype": "text/x-python",
   "name": "python",
   "nbconvert_exporter": "python",
   "pygments_lexer": "ipython2",
   "version": "2.7"
  }
 },
 "nbformat": 4,
 "nbformat_minor": 2
}
